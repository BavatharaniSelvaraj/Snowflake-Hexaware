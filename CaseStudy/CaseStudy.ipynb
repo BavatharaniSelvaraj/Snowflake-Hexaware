{
 "cells": [
  {
   "cell_type": "code",
   "execution_count": 0,
   "metadata": {
    "application/vnd.databricks.v1+cell": {
     "cellMetadata": {
      "byteLimit": 2048000,
      "rowLimit": 10000
     },
     "inputWidgets": {},
     "nuid": "b2039fbb-f340-456d-ba75-1f98488e8bdb",
     "showTitle": false,
     "tableResultSettingsMap": {},
     "title": ""
    }
   },
   "outputs": [
    {
     "output_type": "stream",
     "name": "stdout",
     "output_type": "stream",
     "text": [
      "Requirement already satisfied: snowflake-connector-python in /local_disk0/.ephemeral_nfs/envs/pythonEnv-02a1a03c-9dd9-42c2-b30b-ca058a99dae7/lib/python3.12/site-packages (3.18.0)\nRequirement already satisfied: asn1crypto<2.0.0,>0.24.0 in /local_disk0/.ephemeral_nfs/envs/pythonEnv-02a1a03c-9dd9-42c2-b30b-ca058a99dae7/lib/python3.12/site-packages (from snowflake-connector-python) (1.5.1)\nRequirement already satisfied: boto3>=1.24 in /databricks/python3/lib/python3.12/site-packages (from snowflake-connector-python) (1.36.2)\nRequirement already satisfied: botocore>=1.24 in /databricks/python3/lib/python3.12/site-packages (from snowflake-connector-python) (1.36.3)\nRequirement already satisfied: cffi<2.0.0,>=1.9 in /local_disk0/.ephemeral_nfs/envs/pythonEnv-02a1a03c-9dd9-42c2-b30b-ca058a99dae7/lib/python3.12/site-packages (from snowflake-connector-python) (1.17.1)\nRequirement already satisfied: cryptography>=3.1.0 in /local_disk0/.ephemeral_nfs/envs/pythonEnv-02a1a03c-9dd9-42c2-b30b-ca058a99dae7/lib/python3.12/site-packages (from snowflake-connector-python) (46.0.0)\nRequirement already satisfied: pyOpenSSL<26.0.0,>=22.0.0 in /local_disk0/.ephemeral_nfs/envs/pythonEnv-02a1a03c-9dd9-42c2-b30b-ca058a99dae7/lib/python3.12/site-packages (from snowflake-connector-python) (25.3.0)\nRequirement already satisfied: pyjwt<3.0.0 in /databricks/python3/lib/python3.12/site-packages (from snowflake-connector-python) (2.10.1)\nRequirement already satisfied: pytz in /databricks/python3/lib/python3.12/site-packages (from snowflake-connector-python) (2024.1)\nRequirement already satisfied: requests<3.0.0 in /databricks/python3/lib/python3.12/site-packages (from snowflake-connector-python) (2.32.3)\nRequirement already satisfied: packaging in /databricks/python3/lib/python3.12/site-packages (from snowflake-connector-python) (24.1)\nRequirement already satisfied: charset_normalizer<4,>=2 in /databricks/python3/lib/python3.12/site-packages (from snowflake-connector-python) (3.3.2)\nRequirement already satisfied: idna<4,>=2.5 in /databricks/python3/lib/python3.12/site-packages (from snowflake-connector-python) (3.7)\nRequirement already satisfied: certifi>=2017.4.17 in /databricks/python3/lib/python3.12/site-packages (from snowflake-connector-python) (2025.1.31)\nRequirement already satisfied: typing_extensions<5,>=4.3 in /databricks/python3/lib/python3.12/site-packages (from snowflake-connector-python) (4.12.2)\nRequirement already satisfied: filelock<4,>=3.5 in /usr/local/lib/python3.12/dist-packages (from snowflake-connector-python) (3.18.0)\nRequirement already satisfied: sortedcontainers>=2.4.0 in /databricks/python3/lib/python3.12/site-packages (from snowflake-connector-python) (2.4.0)\nRequirement already satisfied: platformdirs<5.0.0,>=2.6.0 in /databricks/python3/lib/python3.12/site-packages (from snowflake-connector-python) (3.10.0)\nRequirement already satisfied: tomlkit in /local_disk0/.ephemeral_nfs/envs/pythonEnv-02a1a03c-9dd9-42c2-b30b-ca058a99dae7/lib/python3.12/site-packages (from snowflake-connector-python) (0.13.3)\nRequirement already satisfied: jmespath<2.0.0,>=0.7.1 in /databricks/python3/lib/python3.12/site-packages (from boto3>=1.24->snowflake-connector-python) (1.0.1)\nRequirement already satisfied: s3transfer<0.12.0,>=0.11.0 in /databricks/python3/lib/python3.12/site-packages (from boto3>=1.24->snowflake-connector-python) (0.11.3)\nRequirement already satisfied: python-dateutil<3.0.0,>=2.1 in /databricks/python3/lib/python3.12/site-packages (from botocore>=1.24->snowflake-connector-python) (2.9.0.post0)\nRequirement already satisfied: urllib3!=2.2.0,<3,>=1.25.4 in /databricks/python3/lib/python3.12/site-packages (from botocore>=1.24->snowflake-connector-python) (2.3.0)\nRequirement already satisfied: pycparser in /databricks/python3/lib/python3.12/site-packages (from cffi<2.0.0,>=1.9->snowflake-connector-python) (2.21)\nRequirement already satisfied: six>=1.5 in /usr/lib/python3/dist-packages (from python-dateutil<3.0.0,>=2.1->botocore>=1.24->snowflake-connector-python) (1.16.0)\n\u001B[43mNote: you may need to restart the kernel using %restart_python or dbutils.library.restartPython() to use updated packages.\u001B[0m\nRequirement already satisfied: snowflake-snowpark-python in /local_disk0/.ephemeral_nfs/envs/pythonEnv-02a1a03c-9dd9-42c2-b30b-ca058a99dae7/lib/python3.12/site-packages (1.40.0)\nRequirement already satisfied: setuptools>=40.6.0 in /usr/local/lib/python3.12/dist-packages (from snowflake-snowpark-python) (74.0.0)\nRequirement already satisfied: wheel in /usr/local/lib/python3.12/dist-packages (from snowflake-snowpark-python) (0.45.1)\nRequirement already satisfied: snowflake-connector-python<4.0.0,>=3.17.0 in /local_disk0/.ephemeral_nfs/envs/pythonEnv-02a1a03c-9dd9-42c2-b30b-ca058a99dae7/lib/python3.12/site-packages (from snowflake-snowpark-python) (3.18.0)\nRequirement already satisfied: typing-extensions<5.0.0,>=4.1.0 in /databricks/python3/lib/python3.12/site-packages (from snowflake-snowpark-python) (4.12.2)\nRequirement already satisfied: pyyaml in /databricks/python3/lib/python3.12/site-packages (from snowflake-snowpark-python) (6.0.2)\nRequirement already satisfied: cloudpickle!=2.1.0,!=2.2.0,<=3.1.1,>=1.6.0 in /databricks/python3/lib/python3.12/site-packages (from snowflake-snowpark-python) (3.0.0)\nRequirement already satisfied: protobuf<6.32,>=3.20 in /databricks/python3/lib/python3.12/site-packages (from snowflake-snowpark-python) (5.29.4)\nRequirement already satisfied: python-dateutil in /databricks/python3/lib/python3.12/site-packages (from snowflake-snowpark-python) (2.9.0.post0)\nRequirement already satisfied: tzlocal in /local_disk0/.ephemeral_nfs/envs/pythonEnv-02a1a03c-9dd9-42c2-b30b-ca058a99dae7/lib/python3.12/site-packages (from snowflake-snowpark-python) (5.3.1)\nRequirement already satisfied: asn1crypto<2.0.0,>0.24.0 in /local_disk0/.ephemeral_nfs/envs/pythonEnv-02a1a03c-9dd9-42c2-b30b-ca058a99dae7/lib/python3.12/site-packages (from snowflake-connector-python<4.0.0,>=3.17.0->snowflake-snowpark-python) (1.5.1)\nRequirement already satisfied: boto3>=1.24 in /databricks/python3/lib/python3.12/site-packages (from snowflake-connector-python<4.0.0,>=3.17.0->snowflake-snowpark-python) (1.36.2)\nRequirement already satisfied: botocore>=1.24 in /databricks/python3/lib/python3.12/site-packages (from snowflake-connector-python<4.0.0,>=3.17.0->snowflake-snowpark-python) (1.36.3)\nRequirement already satisfied: cffi<2.0.0,>=1.9 in /local_disk0/.ephemeral_nfs/envs/pythonEnv-02a1a03c-9dd9-42c2-b30b-ca058a99dae7/lib/python3.12/site-packages (from snowflake-connector-python<4.0.0,>=3.17.0->snowflake-snowpark-python) (1.17.1)\nRequirement already satisfied: cryptography>=3.1.0 in /local_disk0/.ephemeral_nfs/envs/pythonEnv-02a1a03c-9dd9-42c2-b30b-ca058a99dae7/lib/python3.12/site-packages (from snowflake-connector-python<4.0.0,>=3.17.0->snowflake-snowpark-python) (46.0.0)\nRequirement already satisfied: pyOpenSSL<26.0.0,>=22.0.0 in /local_disk0/.ephemeral_nfs/envs/pythonEnv-02a1a03c-9dd9-42c2-b30b-ca058a99dae7/lib/python3.12/site-packages (from snowflake-connector-python<4.0.0,>=3.17.0->snowflake-snowpark-python) (25.3.0)\nRequirement already satisfied: pyjwt<3.0.0 in /databricks/python3/lib/python3.12/site-packages (from snowflake-connector-python<4.0.0,>=3.17.0->snowflake-snowpark-python) (2.10.1)\nRequirement already satisfied: pytz in /databricks/python3/lib/python3.12/site-packages (from snowflake-connector-python<4.0.0,>=3.17.0->snowflake-snowpark-python) (2024.1)\nRequirement already satisfied: requests<3.0.0 in /databricks/python3/lib/python3.12/site-packages (from snowflake-connector-python<4.0.0,>=3.17.0->snowflake-snowpark-python) (2.32.3)\nRequirement already satisfied: packaging in /databricks/python3/lib/python3.12/site-packages (from snowflake-connector-python<4.0.0,>=3.17.0->snowflake-snowpark-python) (24.1)\nRequirement already satisfied: charset_normalizer<4,>=2 in /databricks/python3/lib/python3.12/site-packages (from snowflake-connector-python<4.0.0,>=3.17.0->snowflake-snowpark-python) (3.3.2)\nRequirement already satisfied: idna<4,>=2.5 in /databricks/python3/lib/python3.12/site-packages (from snowflake-connector-python<4.0.0,>=3.17.0->snowflake-snowpark-python) (3.7)\nRequirement already satisfied: certifi>=2017.4.17 in /databricks/python3/lib/python3.12/site-packages (from snowflake-connector-python<4.0.0,>=3.17.0->snowflake-snowpark-python) (2025.1.31)\nRequirement already satisfied: filelock<4,>=3.5 in /usr/local/lib/python3.12/dist-packages (from snowflake-connector-python<4.0.0,>=3.17.0->snowflake-snowpark-python) (3.18.0)\nRequirement already satisfied: sortedcontainers>=2.4.0 in /databricks/python3/lib/python3.12/site-packages (from snowflake-connector-python<4.0.0,>=3.17.0->snowflake-snowpark-python) (2.4.0)\nRequirement already satisfied: platformdirs<5.0.0,>=2.6.0 in /databricks/python3/lib/python3.12/site-packages (from snowflake-connector-python<4.0.0,>=3.17.0->snowflake-snowpark-python) (3.10.0)\nRequirement already satisfied: tomlkit in /local_disk0/.ephemeral_nfs/envs/pythonEnv-02a1a03c-9dd9-42c2-b30b-ca058a99dae7/lib/python3.12/site-packages (from snowflake-connector-python<4.0.0,>=3.17.0->snowflake-snowpark-python) (0.13.3)\nRequirement already satisfied: six>=1.5 in /usr/lib/python3/dist-packages (from python-dateutil->snowflake-snowpark-python) (1.16.0)\nRequirement already satisfied: jmespath<2.0.0,>=0.7.1 in /databricks/python3/lib/python3.12/site-packages (from boto3>=1.24->snowflake-connector-python<4.0.0,>=3.17.0->snowflake-snowpark-python) (1.0.1)\nRequirement already satisfied: s3transfer<0.12.0,>=0.11.0 in /databricks/python3/lib/python3.12/site-packages (from boto3>=1.24->snowflake-connector-python<4.0.0,>=3.17.0->snowflake-snowpark-python) (0.11.3)\nRequirement already satisfied: urllib3!=2.2.0,<3,>=1.25.4 in /databricks/python3/lib/python3.12/site-packages (from botocore>=1.24->snowflake-connector-python<4.0.0,>=3.17.0->snowflake-snowpark-python) (2.3.0)\nRequirement already satisfied: pycparser in /databricks/python3/lib/python3.12/site-packages (from cffi<2.0.0,>=1.9->snowflake-connector-python<4.0.0,>=3.17.0->snowflake-snowpark-python) (2.21)\n\u001B[43mNote: you may need to restart the kernel using %restart_python or dbutils.library.restartPython() to use updated packages.\u001B[0m\n"
     ]
    }
   ],
   "source": [
    "%pip install snowflake-connector-python\n",
    "%pip install snowflake-snowpark-python"
   ]
  },
  {
   "cell_type": "code",
   "execution_count": 0,
   "metadata": {
    "application/vnd.databricks.v1+cell": {
     "cellMetadata": {
      "byteLimit": 2048000,
      "rowLimit": 10000
     },
     "inputWidgets": {},
     "nuid": "88d57076-f1a1-4957-b415-82e2c79f30ec",
     "showTitle": false,
     "tableResultSettingsMap": {},
     "title": ""
    }
   },
   "outputs": [],
   "source": [
    "%restart_python"
   ]
  },
  {
   "cell_type": "code",
   "execution_count": 0,
   "metadata": {
    "application/vnd.databricks.v1+cell": {
     "cellMetadata": {
      "byteLimit": 2048000,
      "rowLimit": 10000
     },
     "inputWidgets": {},
     "nuid": "5df492eb-396f-4e96-8355-fcb17a2eca9c",
     "showTitle": false,
     "tableResultSettingsMap": {},
     "title": ""
    }
   },
   "outputs": [],
   "source": [
    "import pandas as pd\n",
    "import os\n",
    "from snowflake.connector import connect\n",
    "from snowflake.connector.pandas_tools import write_pandas\n",
    "from snowflake.snowpark import Session\n",
    "from snowflake.snowpark.functions import col, to_date, upper, lit, monthname, year, model\n",
    "from snowflake.snowpark import functions as Fun\n"
   ]
  },
  {
   "cell_type": "code",
   "execution_count": 0,
   "metadata": {
    "application/vnd.databricks.v1+cell": {
     "cellMetadata": {
      "byteLimit": 2048000,
      "rowLimit": 10000
     },
     "inputWidgets": {},
     "nuid": "992b3bc2-f461-4ccc-8e8f-2a7dae8f2038",
     "showTitle": false,
     "tableResultSettingsMap": {},
     "title": ""
    }
   },
   "outputs": [
    {
     "output_type": "stream",
     "name": "stdout",
     "output_type": "stream",
     "text": [
      "Connected to Snowflake successfully!\n"
     ]
    }
   ],
   "source": [
    "# 1. Import Snowpark Session\n",
    "from snowflake.snowpark import Session\n",
    "\n",
    "# 2. Connection parameters\n",
    "connection_parameters = {\n",
    "  \"account\": \"ewkbimp-kg51208\",\n",
    "  \"user\": \"THARANI\",\n",
    "  \"password\": \"TharaniMugunthan13\",\n",
    "  \"warehouse\": \"COMPUTE_WH\",\n",
    "  \"database\": \"RETAIL\",\n",
    "  \"schema\": \"RAW_SALES\"\n",
    "}\n",
    "\n",
    "# 3. Create session\n",
    "session = Session.builder.configs(connection_parameters).create()\n",
    "\n",
    "print(\"Connected to Snowflake successfully!\")\n"
   ]
  },
  {
   "cell_type": "code",
   "execution_count": 0,
   "metadata": {
    "application/vnd.databricks.v1+cell": {
     "cellMetadata": {
      "byteLimit": 2048000,
      "rowLimit": 10000
     },
     "inputWidgets": {},
     "nuid": "bce52c5a-e261-491d-a039-cb8aed9f78c7",
     "showTitle": false,
     "tableResultSettingsMap": {},
     "title": ""
    }
   },
   "outputs": [],
   "source": [
    "df_raw = session.table(\"SALES\")"
   ]
  },
  {
   "cell_type": "code",
   "execution_count": 0,
   "metadata": {
    "application/vnd.databricks.v1+cell": {
     "cellMetadata": {
      "byteLimit": 2048000,
      "rowLimit": 10000
     },
     "inputWidgets": {},
     "nuid": "9d171837-bd44-45f4-8f4a-32704b20555f",
     "showTitle": false,
     "tableResultSettingsMap": {},
     "title": ""
    }
   },
   "outputs": [
    {
     "output_type": "stream",
     "name": "stdout",
     "output_type": "stream",
     "text": [
      "------------------------------------------------------------------------------------------------------------------------------------------------------------------------------------------------\n|\"ORDERID\"     |\"ORDERDATE\"  |\"MONTHOFSALE\"  |\"CUSTOMERID\"  |\"CUSTOMERNAME\"  |\"COUNTRY\"  |\"REGION\"  |\"CITY\"   |\"CATEGORY\"       |\"SUBCATEGORY\"  |\"QUANTITY\"  |\"DISCOUNT\"  |\"SALES\"  |\"PROFIT\"  |\n------------------------------------------------------------------------------------------------------------------------------------------------------------------------------------------------\n|ORD-5F8D6F0C  |2024-10-08   |2024-10        |CUST1000      |Ananya Sharma   |India      |South     |Mumbai   |Office Supplies  |Paper          |9           |0.0         |2700.0   |780.43    |\n|ORD-BF0078E4  |2024-08-11   |2024-08        |CUST1001      |Aarav Iyer      |India      |Central   |Lucknow  |Technology       |Networking     |4           |0.15        |27200.0  |4135.6    |\n|ORD-86CD58A3  |2024-06-12   |2024-06        |CUST1002      |Arjun Sharma    |USA        |East      |Kolkata  |Furniture        |Tables         |4           |0.1         |31500.0  |5676.96   |\n|ORD-FB0CD2D9  |2024-12-18   |2024-12        |CUST1003      |Ananya Das      |India      |North     |Kolkata  |Office Supplies  |Appliances     |9           |0.0         |36000.0  |11783.22  |\n|ORD-EF35596B  |2024-10-27   |2024-10        |CUST1004      |Ishaan Bhat     |UK         |Central   |Chennai  |Furniture        |Storage        |4           |0.0         |24000.0  |4189.98   |\n------------------------------------------------------------------------------------------------------------------------------------------------------------------------------------------------\n\n"
     ]
    }
   ],
   "source": [
    "raw_sales_df.show(5)"
   ]
  },
  {
   "cell_type": "code",
   "execution_count": 0,
   "metadata": {
    "application/vnd.databricks.v1+cell": {
     "cellMetadata": {
      "byteLimit": 2048000,
      "rowLimit": 10000
     },
     "inputWidgets": {},
     "nuid": "63b0065d-dc69-4460-8b31-ee47d3ab8edb",
     "showTitle": false,
     "tableResultSettingsMap": {},
     "title": ""
    }
   },
   "outputs": [
    {
     "output_type": "stream",
     "name": "stdout",
     "output_type": "stream",
     "text": [
      "Sample of cleaned data:\n---------------------------------------------------------------\n|\"ORDERID\"     |\"ORDERDATE\"  |\"COUNTRY\"  |\"SALES\"  |\"PROFIT\"  |\n---------------------------------------------------------------\n|ORD-5F8D6F0C  |2024-10-08   |INDIA      |2700.0   |780.43    |\n|ORD-BF0078E4  |2024-08-11   |INDIA      |27200.0  |4135.6    |\n|ORD-86CD58A3  |2024-06-12   |USA        |31500.0  |5676.96   |\n|ORD-FB0CD2D9  |2024-12-18   |INDIA      |36000.0  |11783.22  |\n|ORD-EF35596B  |2024-10-27   |UK         |24000.0  |4189.98   |\n---------------------------------------------------------------\n\n"
     ]
    }
   ],
   "source": [
    "# Convert and clean data \n",
    "df_clean = (\n",
    "    df_raw\n",
    "    .withColumn(\"OrderDate\", to_date(col(\"OrderDate\"), \"yyyy-MM-dd\"))  # Fixed format string\n",
    "    .withColumn(\"Country\", upper(col(\"Country\")))\n",
    "    .withColumn(\"City\", upper(col(\"City\")))\n",
    "    .withColumn(\"Category\", upper(col(\"Category\")))\n",
    "    .withColumn(\"Profit\", col(\"Profit\").cast(\"float\"))\n",
    "    .withColumn(\"Sales\", col(\"Sales\").cast(\"float\"))\n",
    "    .withColumn(\"Discount\", col(\"Discount\").cast(\"float\"))\n",
    "    .withColumn(\"Quantity\", col(\"Quantity\").cast(\"int\"))\n",
    ")\n",
    "\n",
    "# Verify the transformation\n",
    "print(\"Sample of cleaned data:\")\n",
    "df_clean.select(\"OrderID\", \"OrderDate\", \"Country\", \"Sales\", \"Profit\").show(5)\n"
   ]
  },
  {
   "cell_type": "code",
   "execution_count": 0,
   "metadata": {
    "application/vnd.databricks.v1+cell": {
     "cellMetadata": {
      "byteLimit": 2048000,
      "implicitDf": true,
      "rowLimit": 10000
     },
     "inputWidgets": {},
     "nuid": "f05390a4-f117-4757-8638-9da76e6b101a",
     "showTitle": false,
     "tableResultSettingsMap": {},
     "title": ""
    }
   },
   "outputs": [],
   "source": [
    "df_clean.write.mode(\"overwrite\").save_as_table(\"FACT_SALES\")"
   ]
  }
 ],
 "metadata": {
  "application/vnd.databricks.v1+notebook": {
   "computePreferences": null,
   "dashboards": [],
   "environmentMetadata": {
    "base_environment": "",
    "environment_version": "4"
   },
   "inputWidgetPreferences": null,
   "language": "python",
   "notebookMetadata": {
    "mostRecentlyExecutedCommandWithImplicitDF": {
     "commandId": -1,
     "dataframes": [
      "_sqldf"
     ]
    },
    "pythonIndentUnit": 4
   },
   "notebookName": "CaseStudy",
   "widgets": {}
  },
  "language_info": {
   "name": "python"
  }
 },
 "nbformat": 4,
 "nbformat_minor": 0
}